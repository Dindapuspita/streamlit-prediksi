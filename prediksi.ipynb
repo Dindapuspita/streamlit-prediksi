{
 "cells": [
  {
   "cell_type": "markdown",
   "source": [
    "# Instalasi"
   ],
   "metadata": {}
  },
  {
   "cell_type": "code",
   "execution_count": 51,
   "source": [
    "# import library\r\n",
    "import pandas as pd\r\n",
    "import matplotlib.pyplot as plt\r\n",
    "import numpy as np\r\n",
    "import seaborn as sns\r\n",
    "import pickle as pkl\r\n",
    "\r\n",
    "sns.set()\r\n",
    "\r\n",
    "from sklearn import metrics\r\n",
    "from sklearn.metrics import classification_report, mean_absolute_error, mean_squared_error, r2_score\r\n",
    "from sklearn.pipeline import make_pipeline\r\n",
    "from sklearn.model_selection import train_test_split, GridSearchCV\r\n",
    "from sklearn.preprocessing import OneHotEncoder\r\n",
    "from sklearn.ensemble import RandomForestRegressor, ExtraTreesRegressor"
   ],
   "outputs": [],
   "metadata": {}
  },
  {
   "cell_type": "code",
   "execution_count": 52,
   "source": [
    "# Load data\r\n",
    "df = pd.read_excel('D:\\SEMESTER7/harga_tiket.xlsx')\r\n",
    "df.head()"
   ],
   "outputs": [
    {
     "output_type": "stream",
     "name": "stderr",
     "text": [
      "<>:2: SyntaxWarning: invalid escape sequence '\\S'\n",
      "<>:2: SyntaxWarning: invalid escape sequence '\\S'\n",
      "C:\\Users\\dinda\\AppData\\Local\\Temp\\ipykernel_6532\\170879067.py:2: SyntaxWarning: invalid escape sequence '\\S'\n",
      "  df = pd.read_excel('D:\\SEMESTER7/harga_tiket.xlsx')\n"
     ]
    },
    {
     "output_type": "execute_result",
     "data": {
      "text/plain": [
       "            extract_timestamp origin destination depart_date  best_price\n",
       "0  2022-12-29 03:13:11.798742   JKTC         BTJ  2023-01-01  1943630.00\n",
       "1  2022-12-29 03:13:11.798742   JKTC         BDO  2023-01-01  2542850.00\n",
       "2  2022-12-29 03:13:11.798742   JKTC         MLG  2023-01-01  1312650.00\n",
       "3  2022-12-29 03:13:11.798742   JKTC         SRG  2023-01-01   688180.00\n",
       "4  2022-12-29 03:13:11.798742   JKTC         SUB  2023-01-01   676230.00"
      ],
      "text/html": [
       "<div>\n",
       "<style scoped>\n",
       "    .dataframe tbody tr th:only-of-type {\n",
       "        vertical-align: middle;\n",
       "    }\n",
       "\n",
       "    .dataframe tbody tr th {\n",
       "        vertical-align: top;\n",
       "    }\n",
       "\n",
       "    .dataframe thead th {\n",
       "        text-align: right;\n",
       "    }\n",
       "</style>\n",
       "<table border=\"1\" class=\"dataframe\">\n",
       "  <thead>\n",
       "    <tr style=\"text-align: right;\">\n",
       "      <th></th>\n",
       "      <th>extract_timestamp</th>\n",
       "      <th>origin</th>\n",
       "      <th>destination</th>\n",
       "      <th>depart_date</th>\n",
       "      <th>best_price</th>\n",
       "    </tr>\n",
       "  </thead>\n",
       "  <tbody>\n",
       "    <tr>\n",
       "      <th>0</th>\n",
       "      <td>2022-12-29 03:13:11.798742</td>\n",
       "      <td>JKTC</td>\n",
       "      <td>BTJ</td>\n",
       "      <td>2023-01-01</td>\n",
       "      <td>1943630.00</td>\n",
       "    </tr>\n",
       "    <tr>\n",
       "      <th>1</th>\n",
       "      <td>2022-12-29 03:13:11.798742</td>\n",
       "      <td>JKTC</td>\n",
       "      <td>BDO</td>\n",
       "      <td>2023-01-01</td>\n",
       "      <td>2542850.00</td>\n",
       "    </tr>\n",
       "    <tr>\n",
       "      <th>2</th>\n",
       "      <td>2022-12-29 03:13:11.798742</td>\n",
       "      <td>JKTC</td>\n",
       "      <td>MLG</td>\n",
       "      <td>2023-01-01</td>\n",
       "      <td>1312650.00</td>\n",
       "    </tr>\n",
       "    <tr>\n",
       "      <th>3</th>\n",
       "      <td>2022-12-29 03:13:11.798742</td>\n",
       "      <td>JKTC</td>\n",
       "      <td>SRG</td>\n",
       "      <td>2023-01-01</td>\n",
       "      <td>688180.00</td>\n",
       "    </tr>\n",
       "    <tr>\n",
       "      <th>4</th>\n",
       "      <td>2022-12-29 03:13:11.798742</td>\n",
       "      <td>JKTC</td>\n",
       "      <td>SUB</td>\n",
       "      <td>2023-01-01</td>\n",
       "      <td>676230.00</td>\n",
       "    </tr>\n",
       "  </tbody>\n",
       "</table>\n",
       "</div>"
      ]
     },
     "metadata": {},
     "execution_count": 52
    }
   ],
   "metadata": {}
  },
  {
   "cell_type": "code",
   "execution_count": 53,
   "source": [
    "#Menghilangkan .0 pada kolom best_price\r\n",
    "df['best_price'] = df['best_price'].astype(int)\r\n",
    "print(df)"
   ],
   "outputs": [
    {
     "output_type": "stream",
     "name": "stdout",
     "text": [
      "                extract_timestamp origin destination depart_date  best_price\n",
      "0      2022-12-29 03:13:11.798742   JKTC         BTJ  2023-01-01     1943630\n",
      "1      2022-12-29 03:13:11.798742   JKTC         BDO  2023-01-01     2542850\n",
      "2      2022-12-29 03:13:11.798742   JKTC         MLG  2023-01-01     1312650\n",
      "3      2022-12-29 03:13:11.798742   JKTC         SRG  2023-01-01      688180\n",
      "4      2022-12-29 03:13:11.798742   JKTC         SUB  2023-01-01      676230\n",
      "...                           ...    ...         ...         ...         ...\n",
      "45433  2023-01-01 02:09:16.289170   JKTC         JOG  2024-06-11     1122400\n",
      "45434  2023-01-01 02:09:16.289170   JKTC         YIA  2024-06-11      367200\n",
      "45435  2023-01-01 02:09:16.289170   JKTC         DPS  2024-06-22      697900\n",
      "45436  2023-01-01 02:09:16.289170   JKTC         JOG  2024-06-26     1122400\n",
      "45437  2023-01-01 02:09:16.289170   JKTC         YIA  2024-06-26      367200\n",
      "\n",
      "[45438 rows x 5 columns]\n"
     ]
    }
   ],
   "metadata": {}
  },
  {
   "cell_type": "code",
   "execution_count": 54,
   "source": [
    "# Mengubah format file pada kolom 'depart_date' menjadi datetime\r\n",
    "df[\"depart_date\"] = pd.to_datetime(df[\"depart_date\"], format=\"%Y-%m-%d\")\r\n",
    "\r\n",
    "# Extract useful features from 'depart_date'\r\n",
    "df[\"year\"] = df[\"depart_date\"].dt.year              # Year\r\n",
    "df[\"month\"] = df[\"depart_date\"].dt.month            # Month (1-12)\r\n",
    "df[\"day\"] = df[\"depart_date\"].dt.day                # Day of the month"
   ],
   "outputs": [],
   "metadata": {}
  },
  {
   "cell_type": "markdown",
   "source": [
    "# Preprocessing"
   ],
   "metadata": {}
  },
  {
   "cell_type": "markdown",
   "source": [
    "## Cek Missing Values"
   ],
   "metadata": {}
  },
  {
   "cell_type": "code",
   "execution_count": 55,
   "source": [
    "# Menampilkan jumlah nilai yang hilang untuk setiap kolom\r\n",
    "missing_values = df.isnull().sum()\r\n",
    "print(missing_values)"
   ],
   "outputs": [
    {
     "output_type": "stream",
     "name": "stdout",
     "text": [
      "extract_timestamp    0\n",
      "origin               0\n",
      "destination          0\n",
      "depart_date          0\n",
      "best_price           0\n",
      "year                 0\n",
      "month                0\n",
      "day                  0\n",
      "dtype: int64\n"
     ]
    }
   ],
   "metadata": {}
  },
  {
   "cell_type": "markdown",
   "source": [
    "## One Hot Encoding"
   ],
   "metadata": {}
  },
  {
   "cell_type": "code",
   "execution_count": 56,
   "source": [
    "# Encode 'destination' using OneHotEncoder\r\n",
    "encoder = OneHotEncoder(sparse_output=False)\r\n",
    "destination_encoded = encoder.fit_transform(df[[\"destination\"]])\r\n",
    "\r\n",
    "destination_encoded_df = pd.DataFrame(destination_encoded, columns=encoder.get_feature_names_out([\"destination\"]))"
   ],
   "outputs": [],
   "metadata": {}
  },
  {
   "cell_type": "code",
   "execution_count": 57,
   "source": [
    "destination_encoded_df = destination_encoded_df.astype(\"int32\")\r\n",
    "print(destination_encoded_df)"
   ],
   "outputs": [
    {
     "output_type": "stream",
     "name": "stdout",
     "text": [
      "       destination_BDJ  destination_BDO  destination_BIK  destination_BKS  \\\n",
      "0                    0                0                0                0   \n",
      "1                    0                1                0                0   \n",
      "2                    0                0                0                0   \n",
      "3                    0                0                0                0   \n",
      "4                    0                0                0                0   \n",
      "...                ...              ...              ...              ...   \n",
      "45433                0                0                0                0   \n",
      "45434                0                0                0                0   \n",
      "45435                0                0                0                0   \n",
      "45436                0                0                0                0   \n",
      "45437                0                0                0                0   \n",
      "\n",
      "       destination_BPN  destination_BTH  destination_BTJ  destination_DJB  \\\n",
      "0                    0                0                1                0   \n",
      "1                    0                0                0                0   \n",
      "2                    0                0                0                0   \n",
      "3                    0                0                0                0   \n",
      "4                    0                0                0                0   \n",
      "...                ...              ...              ...              ...   \n",
      "45433                0                0                0                0   \n",
      "45434                0                0                0                0   \n",
      "45435                0                0                0                0   \n",
      "45436                0                0                0                0   \n",
      "45437                0                0                0                0   \n",
      "\n",
      "       destination_DJJ  destination_DPS  ...  destination_PLM  \\\n",
      "0                    0                0  ...                0   \n",
      "1                    0                0  ...                0   \n",
      "2                    0                0  ...                0   \n",
      "3                    0                0  ...                0   \n",
      "4                    0                0  ...                0   \n",
      "...                ...              ...  ...              ...   \n",
      "45433                0                0  ...                0   \n",
      "45434                0                0  ...                0   \n",
      "45435                0                1  ...                0   \n",
      "45436                0                0  ...                0   \n",
      "45437                0                0  ...                0   \n",
      "\n",
      "       destination_PNK  destination_SOC  destination_SRG  destination_SUB  \\\n",
      "0                    0                0                0                0   \n",
      "1                    0                0                0                0   \n",
      "2                    0                0                0                0   \n",
      "3                    0                0                1                0   \n",
      "4                    0                0                0                1   \n",
      "...                ...              ...              ...              ...   \n",
      "45433                0                0                0                0   \n",
      "45434                0                0                0                0   \n",
      "45435                0                0                0                0   \n",
      "45436                0                0                0                0   \n",
      "45437                0                0                0                0   \n",
      "\n",
      "       destination_TKG  destination_TNJ  destination_TRK  destination_UPG  \\\n",
      "0                    0                0                0                0   \n",
      "1                    0                0                0                0   \n",
      "2                    0                0                0                0   \n",
      "3                    0                0                0                0   \n",
      "4                    0                0                0                0   \n",
      "...                ...              ...              ...              ...   \n",
      "45433                0                0                0                0   \n",
      "45434                0                0                0                0   \n",
      "45435                0                0                0                0   \n",
      "45436                0                0                0                0   \n",
      "45437                0                0                0                0   \n",
      "\n",
      "       destination_YIA  \n",
      "0                    0  \n",
      "1                    0  \n",
      "2                    0  \n",
      "3                    0  \n",
      "4                    0  \n",
      "...                ...  \n",
      "45433                0  \n",
      "45434                1  \n",
      "45435                0  \n",
      "45436                0  \n",
      "45437                1  \n",
      "\n",
      "[45438 rows x 29 columns]\n"
     ]
    }
   ],
   "metadata": {}
  },
  {
   "cell_type": "code",
   "execution_count": 58,
   "source": [
    "# Save model\r\n",
    "import joblib\r\n",
    "joblib.dump(destination_encoded_df, 'encode.pkl')\r\n",
    "print(\"Model saved!\")"
   ],
   "outputs": [
    {
     "output_type": "stream",
     "name": "stdout",
     "text": [
      "Model saved!\n"
     ]
    }
   ],
   "metadata": {}
  },
  {
   "cell_type": "code",
   "execution_count": 59,
   "source": [
    "# Combine encoded 'destination' with the rest of the dataset\r\n",
    "df_preprocessed = pd.concat([df.drop(columns=[\"origin\",\"destination\", \"extract_timestamp\", \"depart_date\"]), destination_encoded_df], axis=1)\r\n",
    "print(df_preprocessed)"
   ],
   "outputs": [
    {
     "output_type": "stream",
     "name": "stdout",
     "text": [
      "       best_price  year  month  day  destination_BDJ  destination_BDO  \\\n",
      "0         1943630  2023      1    1                0                0   \n",
      "1         2542850  2023      1    1                0                1   \n",
      "2         1312650  2023      1    1                0                0   \n",
      "3          688180  2023      1    1                0                0   \n",
      "4          676230  2023      1    1                0                0   \n",
      "...           ...   ...    ...  ...              ...              ...   \n",
      "45433     1122400  2024      6   11                0                0   \n",
      "45434      367200  2024      6   11                0                0   \n",
      "45435      697900  2024      6   22                0                0   \n",
      "45436     1122400  2024      6   26                0                0   \n",
      "45437      367200  2024      6   26                0                0   \n",
      "\n",
      "       destination_BIK  destination_BKS  destination_BPN  destination_BTH  \\\n",
      "0                    0                0                0                0   \n",
      "1                    0                0                0                0   \n",
      "2                    0                0                0                0   \n",
      "3                    0                0                0                0   \n",
      "4                    0                0                0                0   \n",
      "...                ...              ...              ...              ...   \n",
      "45433                0                0                0                0   \n",
      "45434                0                0                0                0   \n",
      "45435                0                0                0                0   \n",
      "45436                0                0                0                0   \n",
      "45437                0                0                0                0   \n",
      "\n",
      "       ...  destination_PLM  destination_PNK  destination_SOC  \\\n",
      "0      ...                0                0                0   \n",
      "1      ...                0                0                0   \n",
      "2      ...                0                0                0   \n",
      "3      ...                0                0                0   \n",
      "4      ...                0                0                0   \n",
      "...    ...              ...              ...              ...   \n",
      "45433  ...                0                0                0   \n",
      "45434  ...                0                0                0   \n",
      "45435  ...                0                0                0   \n",
      "45436  ...                0                0                0   \n",
      "45437  ...                0                0                0   \n",
      "\n",
      "       destination_SRG  destination_SUB  destination_TKG  destination_TNJ  \\\n",
      "0                    0                0                0                0   \n",
      "1                    0                0                0                0   \n",
      "2                    0                0                0                0   \n",
      "3                    1                0                0                0   \n",
      "4                    0                1                0                0   \n",
      "...                ...              ...              ...              ...   \n",
      "45433                0                0                0                0   \n",
      "45434                0                0                0                0   \n",
      "45435                0                0                0                0   \n",
      "45436                0                0                0                0   \n",
      "45437                0                0                0                0   \n",
      "\n",
      "       destination_TRK  destination_UPG  destination_YIA  \n",
      "0                    0                0                0  \n",
      "1                    0                0                0  \n",
      "2                    0                0                0  \n",
      "3                    0                0                0  \n",
      "4                    0                0                0  \n",
      "...                ...              ...              ...  \n",
      "45433                0                0                0  \n",
      "45434                0                0                1  \n",
      "45435                0                0                0  \n",
      "45436                0                0                0  \n",
      "45437                0                0                1  \n",
      "\n",
      "[45438 rows x 33 columns]\n"
     ]
    }
   ],
   "metadata": {}
  },
  {
   "cell_type": "code",
   "execution_count": 81,
   "source": [
    "import joblib\r\n",
    "joblib.dump(df_preprocessed, 'encoder.joblib')"
   ],
   "outputs": [
    {
     "output_type": "execute_result",
     "data": {
      "text/plain": [
       "['encoder.joblib']"
      ]
     },
     "metadata": {},
     "execution_count": 81
    }
   ],
   "metadata": {}
  },
  {
   "cell_type": "markdown",
   "source": [
    "# Pembagian Data"
   ],
   "metadata": {}
  },
  {
   "cell_type": "markdown",
   "source": [
    "## Pemisahan Kolom Independen dan Dependen"
   ],
   "metadata": {}
  },
  {
   "cell_type": "markdown",
   "source": [
    "Pemisahan kolom independen dan dependen ini dilakukan agar nantinya data siap diolah pada proses selanjutnya yaitu proses pembagian data latih dan tes. Pemisahan ini akan menghasilkan dua variabel data baru, yaitu X yang berisi data independen, dan y yang berisi data dependen"
   ],
   "metadata": {}
  },
  {
   "cell_type": "code",
   "execution_count": 60,
   "source": [
    "# Memisahkan fitur X dan target y\r\n",
    "X = df_preprocessed.drop(columns=[\"best_price\"])\r\n",
    "y = df_preprocessed['best_price']"
   ],
   "outputs": [],
   "metadata": {}
  },
  {
   "cell_type": "code",
   "execution_count": 61,
   "source": [
    "# Menampilkan 5 baris data X (dependen)\r\n",
    "X.head()"
   ],
   "outputs": [
    {
     "output_type": "execute_result",
     "data": {
      "text/plain": [
       "   year  month  day  destination_BDJ  destination_BDO  destination_BIK  \\\n",
       "0  2023      1    1                0                0                0   \n",
       "1  2023      1    1                0                1                0   \n",
       "2  2023      1    1                0                0                0   \n",
       "3  2023      1    1                0                0                0   \n",
       "4  2023      1    1                0                0                0   \n",
       "\n",
       "   destination_BKS  destination_BPN  destination_BTH  destination_BTJ  ...  \\\n",
       "0                0                0                0                1  ...   \n",
       "1                0                0                0                0  ...   \n",
       "2                0                0                0                0  ...   \n",
       "3                0                0                0                0  ...   \n",
       "4                0                0                0                0  ...   \n",
       "\n",
       "   destination_PLM  destination_PNK  destination_SOC  destination_SRG  \\\n",
       "0                0                0                0                0   \n",
       "1                0                0                0                0   \n",
       "2                0                0                0                0   \n",
       "3                0                0                0                1   \n",
       "4                0                0                0                0   \n",
       "\n",
       "   destination_SUB  destination_TKG  destination_TNJ  destination_TRK  \\\n",
       "0                0                0                0                0   \n",
       "1                0                0                0                0   \n",
       "2                0                0                0                0   \n",
       "3                0                0                0                0   \n",
       "4                1                0                0                0   \n",
       "\n",
       "   destination_UPG  destination_YIA  \n",
       "0                0                0  \n",
       "1                0                0  \n",
       "2                0                0  \n",
       "3                0                0  \n",
       "4                0                0  \n",
       "\n",
       "[5 rows x 32 columns]"
      ],
      "text/html": [
       "<div>\n",
       "<style scoped>\n",
       "    .dataframe tbody tr th:only-of-type {\n",
       "        vertical-align: middle;\n",
       "    }\n",
       "\n",
       "    .dataframe tbody tr th {\n",
       "        vertical-align: top;\n",
       "    }\n",
       "\n",
       "    .dataframe thead th {\n",
       "        text-align: right;\n",
       "    }\n",
       "</style>\n",
       "<table border=\"1\" class=\"dataframe\">\n",
       "  <thead>\n",
       "    <tr style=\"text-align: right;\">\n",
       "      <th></th>\n",
       "      <th>year</th>\n",
       "      <th>month</th>\n",
       "      <th>day</th>\n",
       "      <th>destination_BDJ</th>\n",
       "      <th>destination_BDO</th>\n",
       "      <th>destination_BIK</th>\n",
       "      <th>destination_BKS</th>\n",
       "      <th>destination_BPN</th>\n",
       "      <th>destination_BTH</th>\n",
       "      <th>destination_BTJ</th>\n",
       "      <th>...</th>\n",
       "      <th>destination_PLM</th>\n",
       "      <th>destination_PNK</th>\n",
       "      <th>destination_SOC</th>\n",
       "      <th>destination_SRG</th>\n",
       "      <th>destination_SUB</th>\n",
       "      <th>destination_TKG</th>\n",
       "      <th>destination_TNJ</th>\n",
       "      <th>destination_TRK</th>\n",
       "      <th>destination_UPG</th>\n",
       "      <th>destination_YIA</th>\n",
       "    </tr>\n",
       "  </thead>\n",
       "  <tbody>\n",
       "    <tr>\n",
       "      <th>0</th>\n",
       "      <td>2023</td>\n",
       "      <td>1</td>\n",
       "      <td>1</td>\n",
       "      <td>0</td>\n",
       "      <td>0</td>\n",
       "      <td>0</td>\n",
       "      <td>0</td>\n",
       "      <td>0</td>\n",
       "      <td>0</td>\n",
       "      <td>1</td>\n",
       "      <td>...</td>\n",
       "      <td>0</td>\n",
       "      <td>0</td>\n",
       "      <td>0</td>\n",
       "      <td>0</td>\n",
       "      <td>0</td>\n",
       "      <td>0</td>\n",
       "      <td>0</td>\n",
       "      <td>0</td>\n",
       "      <td>0</td>\n",
       "      <td>0</td>\n",
       "    </tr>\n",
       "    <tr>\n",
       "      <th>1</th>\n",
       "      <td>2023</td>\n",
       "      <td>1</td>\n",
       "      <td>1</td>\n",
       "      <td>0</td>\n",
       "      <td>1</td>\n",
       "      <td>0</td>\n",
       "      <td>0</td>\n",
       "      <td>0</td>\n",
       "      <td>0</td>\n",
       "      <td>0</td>\n",
       "      <td>...</td>\n",
       "      <td>0</td>\n",
       "      <td>0</td>\n",
       "      <td>0</td>\n",
       "      <td>0</td>\n",
       "      <td>0</td>\n",
       "      <td>0</td>\n",
       "      <td>0</td>\n",
       "      <td>0</td>\n",
       "      <td>0</td>\n",
       "      <td>0</td>\n",
       "    </tr>\n",
       "    <tr>\n",
       "      <th>2</th>\n",
       "      <td>2023</td>\n",
       "      <td>1</td>\n",
       "      <td>1</td>\n",
       "      <td>0</td>\n",
       "      <td>0</td>\n",
       "      <td>0</td>\n",
       "      <td>0</td>\n",
       "      <td>0</td>\n",
       "      <td>0</td>\n",
       "      <td>0</td>\n",
       "      <td>...</td>\n",
       "      <td>0</td>\n",
       "      <td>0</td>\n",
       "      <td>0</td>\n",
       "      <td>0</td>\n",
       "      <td>0</td>\n",
       "      <td>0</td>\n",
       "      <td>0</td>\n",
       "      <td>0</td>\n",
       "      <td>0</td>\n",
       "      <td>0</td>\n",
       "    </tr>\n",
       "    <tr>\n",
       "      <th>3</th>\n",
       "      <td>2023</td>\n",
       "      <td>1</td>\n",
       "      <td>1</td>\n",
       "      <td>0</td>\n",
       "      <td>0</td>\n",
       "      <td>0</td>\n",
       "      <td>0</td>\n",
       "      <td>0</td>\n",
       "      <td>0</td>\n",
       "      <td>0</td>\n",
       "      <td>...</td>\n",
       "      <td>0</td>\n",
       "      <td>0</td>\n",
       "      <td>0</td>\n",
       "      <td>1</td>\n",
       "      <td>0</td>\n",
       "      <td>0</td>\n",
       "      <td>0</td>\n",
       "      <td>0</td>\n",
       "      <td>0</td>\n",
       "      <td>0</td>\n",
       "    </tr>\n",
       "    <tr>\n",
       "      <th>4</th>\n",
       "      <td>2023</td>\n",
       "      <td>1</td>\n",
       "      <td>1</td>\n",
       "      <td>0</td>\n",
       "      <td>0</td>\n",
       "      <td>0</td>\n",
       "      <td>0</td>\n",
       "      <td>0</td>\n",
       "      <td>0</td>\n",
       "      <td>0</td>\n",
       "      <td>...</td>\n",
       "      <td>0</td>\n",
       "      <td>0</td>\n",
       "      <td>0</td>\n",
       "      <td>0</td>\n",
       "      <td>1</td>\n",
       "      <td>0</td>\n",
       "      <td>0</td>\n",
       "      <td>0</td>\n",
       "      <td>0</td>\n",
       "      <td>0</td>\n",
       "    </tr>\n",
       "  </tbody>\n",
       "</table>\n",
       "<p>5 rows × 32 columns</p>\n",
       "</div>"
      ]
     },
     "metadata": {},
     "execution_count": 61
    }
   ],
   "metadata": {}
  },
  {
   "cell_type": "code",
   "execution_count": 62,
   "source": [
    "# Menampilkan 5 baris data y (independen)\r\n",
    "y.head()"
   ],
   "outputs": [
    {
     "output_type": "execute_result",
     "data": {
      "text/plain": [
       "0    1943630\n",
       "1    2542850\n",
       "2    1312650\n",
       "3     688180\n",
       "4     676230\n",
       "Name: best_price, dtype: int32"
      ]
     },
     "metadata": {},
     "execution_count": 62
    }
   ],
   "metadata": {}
  },
  {
   "cell_type": "markdown",
   "source": [
    "## Split Data"
   ],
   "metadata": {}
  },
  {
   "cell_type": "markdown",
   "source": [
    "Pada proses ini data akan dibagi menjadi dua, yaitu data latih dan data tes. Data latih digunakan untuk melatih model, sementara data tes digunakan untuk menguji kinerja model yang telah dilatih. Pembagian data ini penting untuk menghindari overfitting dan untuk menguji model terhadap data baru yang belum pernah dilihat sebelumnya. Data yang telah melalui pra-pemrosesan data akan dibagi menjadi data latih dan data tes dengan total 4 variabel, yaitu data independen latih (X_train), data independen tes (X_test), data dependen latih (y_train), dan data dependen tes (y_test), dengan test_size yang disesuaikan dari proses sebelumnya."
   ],
   "metadata": {}
  },
  {
   "cell_type": "code",
   "execution_count": 63,
   "source": [
    "#Split the dataset into training and testing sets\r\n",
    "X_train, X_test, y_train, y_test = train_test_split(X, y, test_size=0.2, random_state=42)"
   ],
   "outputs": [],
   "metadata": {}
  },
  {
   "cell_type": "markdown",
   "source": [
    "# Pemodelan"
   ],
   "metadata": {}
  },
  {
   "cell_type": "markdown",
   "source": [
    "## Random Forest Regression"
   ],
   "metadata": {}
  },
  {
   "cell_type": "markdown",
   "source": [
    "Random Forest Regression adalah algoritma machine learning berbasis ensemble yang digunakan untuk memprediksi nilai kontinu (regresi). Algoritma ini bekerja dengan membangun banyak decision trees selama pelatihan dan menggabungkan hasil prediksi dari semua tree untuk menghasilkan prediksi akhir, biasanya dengan mengambil rata-rata."
   ],
   "metadata": {}
  },
  {
   "cell_type": "code",
   "execution_count": 64,
   "source": [
    "from sklearn.model_selection import KFold\r\n",
    "from sklearn.metrics import mean_squared_error, r2_score, mean_absolute_error\r\n",
    "\r\n",
    "# Buat objek Random Forest Regressor\r\n",
    "model_rf = RandomForestRegressor(n_estimators=100, random_state=42)\r\n",
    "\r\n",
    "# Buat objek KFold cross-validation\r\n",
    "kf = KFold(n_splits=5, shuffle=True, random_state=42)\r\n",
    "\r\n",
    "# Inisialiasi metrik evaluasi\r\n",
    "training_accuracy = []\r\n",
    "testing_accuracy = []\r\n",
    "mse_list = []\r\n",
    "rmse_list = []\r\n",
    "mae_list = []\r\n",
    "r2_list = []\r\n",
    "\r\n",
    "# Loop setiap fold\r\n",
    "for fold, (train_index, test_index) in enumerate(kf.split(X)):\r\n",
    "  # Gunakan .iloc untuk memilih baris berdasarkan indeks integer\r\n",
    "  X_train, X_test = X.iloc[train_index], X.iloc[test_index]\r\n",
    "  y_train, y_test = y.iloc[train_index], y.iloc[test_index]\r\n",
    "\r\n",
    "  # Latih model\r\n",
    "  model_rf.fit(X_train, y_train)\r\n",
    "\r\n",
    "  # Menghitung akurasi untuk Data Pelatihan dan Pengujian\r\n",
    "  train_predictions = model_rf.predict(X_train)\r\n",
    "  test_predictions = model_rf.predict(X_test)\r\n",
    "\r\n",
    "  # Hitung ulang prediksi dari model Random Forest\r\n",
    "  predictions_rf = model_rf.predict(X_test) \r\n",
    "\r\n",
    "  # Menghitung metrik evaluasi\r\n",
    "  mse = mean_squared_error(y_test, predictions_rf)\r\n",
    "  rmse = np.sqrt(mse)\r\n",
    "  mae = mean_absolute_error(y_test, predictions_rf)\r\n",
    "  r2 = r2_score(y_test, predictions_rf)\r\n",
    "\r\n",
    "   # Menghitung akurasi\r\n",
    "  training_accuracy.append(model_rf.score(X_train, y_train))\r\n",
    "  testing_accuracy.append(model_rf.score(X_test, y_test))\r\n",
    "\r\n",
    "  # Menambahkan list yang ada\r\n",
    "  mse_list.append(mse)\r\n",
    "  rmse_list.append(rmse)\r\n",
    "  mae_list.append(mae)\r\n",
    "  r2_list.append(r2)\r\n",
    "\r\n",
    "  # Membulatkan dan mengubah tipe data\r\n",
    "  df_pred_rf = pd.DataFrame({'predictions_rf' : predictions_rf})\r\n",
    "  df_pred_rf[\"predictions_rf\"] = df_pred_rf[\"predictions_rf\"].round().astype(int)\r\n",
    "\r\n",
    "  print(f\"Fold {fold+1}:\")\r\n",
    "  print(f\"  Training Accuracy: {training_accuracy[-1]:.2f}\")\r\n",
    "  print(f\"  Testing Accuracy: {testing_accuracy[-1]:.2f}\")\r\n",
    "  print(f\"  MSE: {mse:.2f}\")\r\n",
    "  print(f\"  RMSE: {rmse:.2f}\")\r\n",
    "  print(f\"  MAE: {mae:.2f}\")\r\n",
    "  print(f\"  R2 Score: {r2:.2f}\")\r\n",
    "  print(df_pred_rf.head())\r\n",
    "  print()"
   ],
   "outputs": [
    {
     "output_type": "stream",
     "name": "stdout",
     "text": [
      "Fold 1:\n",
      "  Training Accuracy: 0.97\n",
      "  Testing Accuracy: 0.96\n",
      "  MSE: 46588568857.61\n",
      "  RMSE: 215843.85\n",
      "  MAE: 115896.47\n",
      "  R2 Score: 0.96\n",
      "   predictions_rf\n",
      "0         2576496\n",
      "1          782936\n",
      "2          690030\n",
      "3         1084674\n",
      "4         1390813\n",
      "\n",
      "Fold 2:\n",
      "  Training Accuracy: 0.97\n",
      "  Testing Accuracy: 0.96\n",
      "  MSE: 44247713350.02\n",
      "  RMSE: 210351.40\n",
      "  MAE: 112471.56\n",
      "  R2 Score: 0.96\n",
      "   predictions_rf\n",
      "0         1991947\n",
      "1          527054\n",
      "2         1164409\n",
      "3         2786437\n",
      "4          714861\n",
      "\n",
      "Fold 3:\n",
      "  Training Accuracy: 0.97\n",
      "  Testing Accuracy: 0.96\n",
      "  MSE: 45945617263.13\n",
      "  RMSE: 214349.29\n",
      "  MAE: 113975.34\n",
      "  R2 Score: 0.96\n",
      "   predictions_rf\n",
      "0          717548\n",
      "1         1024853\n",
      "2          630475\n",
      "3          709493\n",
      "4          987282\n",
      "\n",
      "Fold 4:\n",
      "  Training Accuracy: 0.97\n",
      "  Testing Accuracy: 0.96\n",
      "  MSE: 48098244452.54\n",
      "  RMSE: 219313.12\n",
      "  MAE: 116737.52\n",
      "  R2 Score: 0.96\n",
      "   predictions_rf\n",
      "0         1313858\n",
      "1          760770\n",
      "2         1632387\n",
      "3         1216917\n",
      "4          948520\n",
      "\n",
      "Fold 5:\n",
      "  Training Accuracy: 0.97\n",
      "  Testing Accuracy: 0.96\n",
      "  MSE: 47703671144.92\n",
      "  RMSE: 218411.70\n",
      "  MAE: 117344.94\n",
      "  R2 Score: 0.96\n",
      "   predictions_rf\n",
      "0          843209\n",
      "1          899301\n",
      "2          934988\n",
      "3         1055317\n",
      "4         1279743\n",
      "\n"
     ]
    }
   ],
   "metadata": {}
  },
  {
   "cell_type": "code",
   "execution_count": 65,
   "source": [
    "# Hitung dan cetak rata-rata standar deviasi untuk setiap metrik\r\n",
    "print(\"Overall Metrics:\")\r\n",
    "print(f\"  Training Accuracy: {np.mean(training_accuracy):.2f} +/- {np.std(training_accuracy):.2f}\")\r\n",
    "print(f\"  Testing Accuracy: {np.mean(testing_accuracy):.2f} +/- {np.std(testing_accuracy):.2f}\")\r\n",
    "print(f\"  MSE: {np.mean(mse_list):.2f} +/- {np.std(mse_list):.2f}\")\r\n",
    "print(f\"  RMSE: {np.mean(rmse_list):.2f} +/- {np.std(rmse_list):.2f}\")\r\n",
    "print(f\"  MAE: {np.mean(mae_list):.2f} +/- {np.std(mae_list):.2f}\")\r\n",
    "print(f\"  R2 Score: {np.mean(r2_list):.2f} +/- {np.std(r2_list):.2f}\")"
   ],
   "outputs": [
    {
     "output_type": "stream",
     "name": "stdout",
     "text": [
      "Overall Metrics:\n",
      "  Training Accuracy: 0.97 +/- 0.00\n",
      "  Testing Accuracy: 0.96 +/- 0.00\n",
      "  MSE: 46516763013.64 +/- 1370385666.68\n",
      "  RMSE: 215653.87 +/- 3189.04\n",
      "  MAE: 115285.17 +/- 1808.74\n",
      "  R2 Score: 0.96 +/- 0.00\n"
     ]
    }
   ],
   "metadata": {}
  },
  {
   "cell_type": "code",
   "execution_count": 66,
   "source": [
    "# Prediksi variabel dependen dari data test\r\n",
    "prediksi_rf = model_rf.predict(X_test)\r\n",
    "# Menampilkan hasil prediksi\r\n",
    "prediksi_rf"
   ],
   "outputs": [
    {
     "output_type": "execute_result",
     "data": {
      "text/plain": [
       "array([ 843209.45166667,  899301.40366667,  934987.62668254, ...,\n",
       "       1127152.        ,  431568.16219059,  733343.64438894])"
      ]
     },
     "metadata": {},
     "execution_count": 66
    }
   ],
   "metadata": {}
  },
  {
   "cell_type": "code",
   "execution_count": 67,
   "source": [
    "# Mengatur format tampilan\r\n",
    "pd.set_option('display.float_format', '{:.2f}'.format)"
   ],
   "outputs": [],
   "metadata": {}
  },
  {
   "cell_type": "code",
   "execution_count": 68,
   "source": [
    "# Membulatkan dan mengubah tipe data\r\n",
    "df_pred_rf = pd.DataFrame({'prediksi_rf' : prediksi_rf})\r\n",
    "df_pred_rf[\"prediksi_rf\"] = df_pred_rf[\"prediksi_rf\"].round().astype(int)\r\n",
    "\r\n",
    "# Menampilkan hasil\r\n",
    "print(df_pred_rf.head())"
   ],
   "outputs": [
    {
     "output_type": "stream",
     "name": "stdout",
     "text": [
      "   prediksi_rf\n",
      "0       843209\n",
      "1       899301\n",
      "2       934988\n",
      "3      1055317\n",
      "4      1279743\n"
     ]
    }
   ],
   "metadata": {}
  },
  {
   "cell_type": "code",
   "execution_count": 69,
   "source": [
    "test_df = pd.DataFrame({\r\n",
    "    \"Predicted Price\" : model_rf.predict(X_test),\r\n",
    "    \"Actual Price\" : y_test,\r\n",
    "}).reset_index(drop = True)\r\n",
    "\r\n",
    "test_df"
   ],
   "outputs": [
    {
     "output_type": "execute_result",
     "data": {
      "text/plain": [
       "      Predicted Price  Actual Price\n",
       "0           843209.45       1312650\n",
       "1           899301.40        804880\n",
       "2           934987.63        984850\n",
       "3          1055317.09        936450\n",
       "4          1279742.73        961450\n",
       "...               ...           ...\n",
       "9082       1002461.03       1023100\n",
       "9083       1127680.00       1122400\n",
       "9084       1127152.00       1122400\n",
       "9085        431568.16        367200\n",
       "9086        733343.64        697900\n",
       "\n",
       "[9087 rows x 2 columns]"
      ],
      "text/html": [
       "<div>\n",
       "<style scoped>\n",
       "    .dataframe tbody tr th:only-of-type {\n",
       "        vertical-align: middle;\n",
       "    }\n",
       "\n",
       "    .dataframe tbody tr th {\n",
       "        vertical-align: top;\n",
       "    }\n",
       "\n",
       "    .dataframe thead th {\n",
       "        text-align: right;\n",
       "    }\n",
       "</style>\n",
       "<table border=\"1\" class=\"dataframe\">\n",
       "  <thead>\n",
       "    <tr style=\"text-align: right;\">\n",
       "      <th></th>\n",
       "      <th>Predicted Price</th>\n",
       "      <th>Actual Price</th>\n",
       "    </tr>\n",
       "  </thead>\n",
       "  <tbody>\n",
       "    <tr>\n",
       "      <th>0</th>\n",
       "      <td>843209.45</td>\n",
       "      <td>1312650</td>\n",
       "    </tr>\n",
       "    <tr>\n",
       "      <th>1</th>\n",
       "      <td>899301.40</td>\n",
       "      <td>804880</td>\n",
       "    </tr>\n",
       "    <tr>\n",
       "      <th>2</th>\n",
       "      <td>934987.63</td>\n",
       "      <td>984850</td>\n",
       "    </tr>\n",
       "    <tr>\n",
       "      <th>3</th>\n",
       "      <td>1055317.09</td>\n",
       "      <td>936450</td>\n",
       "    </tr>\n",
       "    <tr>\n",
       "      <th>4</th>\n",
       "      <td>1279742.73</td>\n",
       "      <td>961450</td>\n",
       "    </tr>\n",
       "    <tr>\n",
       "      <th>...</th>\n",
       "      <td>...</td>\n",
       "      <td>...</td>\n",
       "    </tr>\n",
       "    <tr>\n",
       "      <th>9082</th>\n",
       "      <td>1002461.03</td>\n",
       "      <td>1023100</td>\n",
       "    </tr>\n",
       "    <tr>\n",
       "      <th>9083</th>\n",
       "      <td>1127680.00</td>\n",
       "      <td>1122400</td>\n",
       "    </tr>\n",
       "    <tr>\n",
       "      <th>9084</th>\n",
       "      <td>1127152.00</td>\n",
       "      <td>1122400</td>\n",
       "    </tr>\n",
       "    <tr>\n",
       "      <th>9085</th>\n",
       "      <td>431568.16</td>\n",
       "      <td>367200</td>\n",
       "    </tr>\n",
       "    <tr>\n",
       "      <th>9086</th>\n",
       "      <td>733343.64</td>\n",
       "      <td>697900</td>\n",
       "    </tr>\n",
       "  </tbody>\n",
       "</table>\n",
       "<p>9087 rows × 2 columns</p>\n",
       "</div>"
      ]
     },
     "metadata": {},
     "execution_count": 69
    }
   ],
   "metadata": {}
  },
  {
   "cell_type": "markdown",
   "source": [
    "# Input Prediksi"
   ],
   "metadata": {}
  },
  {
   "cell_type": "code",
   "execution_count": 70,
   "source": [
    "# Fungsi untuk memproses input tujuan\r\n",
    "def preprocess_destination(destination):\r\n",
    "    destination_encoded = encoder.transform([[destination]])\r\n",
    "    return pd.DataFrame(destination_encoded, columns=encoder.get_feature_names_out([\"destination\"]))\r\n",
    "\r\n",
    "# Fungsi untuk memprediksi harga berdasarkan tujuan\r\n",
    "def predict_price(destination, year, month, day):\r\n",
    "    destination_features = preprocess_destination(destination)\r\n",
    "    input_data = pd.DataFrame({\r\n",
    "        \"year\": [year],\r\n",
    "        \"month\": [month],\r\n",
    "        \"day\": [day]\r\n",
    "    })\r\n",
    "    processed_input = pd.concat([input_data, destination_features], axis=1)\r\n",
    "    prediction = model_rf.predict(processed_input)\r\n",
    "    return prediction[0]\r\n",
    "\r\n",
    "# Input dan Prediksi\r\n",
    "def input_destination():\r\n",
    "    destination = input(\"Masukkan tujuan: \")\r\n",
    "\r\n",
    "    # Validasi input tahun\r\n",
    "    while True:\r\n",
    "        year_input = input(\"Masukkan tahun (misal, 2023): \")\r\n",
    "        if year_input.isdigit():\r\n",
    "            year = int(year_input)\r\n",
    "            break\r\n",
    "        else:\r\n",
    "            print(\"Input tidak valid! Harap masukkan tahun yang valid.\")\r\n",
    "\r\n",
    "    # Validasi input bulan\r\n",
    "    while True:\r\n",
    "        month_input = input(\"Masukkan bulan (1-12): \")\r\n",
    "        if month_input.isdigit() and 1 <= int(month_input) <= 12:\r\n",
    "            month = int(month_input)\r\n",
    "            break\r\n",
    "        else:\r\n",
    "            print(\"Input tidak valid! Harap masukkan bulan yang valid (1-12).\")\r\n",
    "\r\n",
    "    # Validasi input tanggal\r\n",
    "    while True:\r\n",
    "        day_input = input(\"Masukkan tanggal: \")\r\n",
    "        if day_input.isdigit() and 1 <= int(day_input) <= 31:  # Anda bisa menambahkan validasi tanggal berdasarkan bulan\r\n",
    "            day = int(day_input)\r\n",
    "            break\r\n",
    "        else:\r\n",
    "            print(\"Input tidak valid! Harap masukkan tanggal yang valid (1-31).\")\r\n",
    "    \r\n",
    "    # Memanggil fungsi prediksi\r\n",
    "    price_prediction = predict_price(destination, year, month, day)\r\n",
    "    return price_prediction\r\n",
    "\r\n",
    "# Penggunaan contoh\r\n",
    "example_destination = input(\"Masukkan tujuan untuk prediksi: \")\r\n",
    "predicted_price = input_destination()\r\n",
    "print(f\"Prediksi Harga untuk tujuan {example_destination}: {predicted_price}\")"
   ],
   "outputs": [
    {
     "output_type": "stream",
     "name": "stderr",
     "text": [
      "C:\\Users\\dinda\\anaconda3\\Lib\\site-packages\\sklearn\\base.py:493: UserWarning: X does not have valid feature names, but OneHotEncoder was fitted with feature names\n",
      "  warnings.warn(\n"
     ]
    },
    {
     "output_type": "stream",
     "name": "stdout",
     "text": [
      "Prediksi Harga untuk tujuan YIA: 547594.1533333333\n"
     ]
    }
   ],
   "metadata": {}
  },
  {
   "cell_type": "code",
   "execution_count": null,
   "source": [
    "# Input manual (berdasarkan input prediksi sebelumnya)\r\n",
    "destination = \"YIA\"\r\n",
    "year = 2023\r\n",
    "month = 1\r\n",
    "day = 1\r\n",
    "\r\n",
    "# Temukan nilai aktual di dataset\r\n",
    "actual_price = df[\r\n",
    "    (df[\"destination\"] == destination) &\r\n",
    "    (df[\"year\"] == year) &\r\n",
    "    (df[\"month\"] == month) &\r\n",
    "    (df[\"day\"] == day)\r\n",
    "][\"best_price\"]\r\n",
    "\r\n",
    "if not actual_price.empty:\r\n",
    "    print(f\"Actual Price for destination {destination} on {year}-{month}-{day}: {actual_price.values[0]}\")\r\n",
    "    predicted_price = predict_price(destination, year, month, day)  # Misalnya day_of_week=4\r\n",
    "    print(f\"Predicted Price: {predicted_price}\")\r\n",
    "    print(f\"Error: {abs(actual_price.values[0] - predicted_price)}\")\r\n",
    "else:\r\n",
    "    print(\"No actual data found for the given input.\")"
   ],
   "outputs": [
    {
     "output_type": "stream",
     "name": "stdout",
     "text": [
      "Actual Price for destination YIA on 2023-1-1: 569430\n",
      "Predicted Price: 547594.1533333333\n",
      "Error: 21835.84666666668\n"
     ]
    },
    {
     "output_type": "stream",
     "name": "stderr",
     "text": [
      "C:\\Users\\dinda\\anaconda3\\Lib\\site-packages\\sklearn\\base.py:493: UserWarning: X does not have valid feature names, but OneHotEncoder was fitted with feature names\n",
      "  warnings.warn(\n"
     ]
    }
   ],
   "metadata": {}
  },
  {
   "cell_type": "markdown",
   "source": [
    "# Simpan Model"
   ],
   "metadata": {}
  },
  {
   "cell_type": "code",
   "execution_count": null,
   "source": [
    "import joblib\r\n",
    "joblib.dump(model_rf, 'rf.joblib')"
   ],
   "outputs": [],
   "metadata": {}
  }
 ],
 "metadata": {
  "orig_nbformat": 4,
  "language_info": {
   "name": "python",
   "version": "3.12.7",
   "mimetype": "text/x-python",
   "codemirror_mode": {
    "name": "ipython",
    "version": 3
   },
   "pygments_lexer": "ipython3",
   "nbconvert_exporter": "python",
   "file_extension": ".py"
  },
  "kernelspec": {
   "name": "python3",
   "display_name": "Python 3.12.7 64-bit ('base': conda)"
  },
  "interpreter": {
   "hash": "a95d5bb1a2c16ec5015b1671ed187305559b8f7b82083bc1a9b273393d8f814b"
  }
 },
 "nbformat": 4,
 "nbformat_minor": 2
}